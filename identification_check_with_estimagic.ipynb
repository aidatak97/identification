{
 "cells": [
  {
   "cell_type": "markdown",
   "id": "private-handle",
   "metadata": {},
   "source": [
    "# Detecting Identification Failure in the Moment Condition Models.\n",
    "\n",
    "This tutorial shows you how to do an identification check for MSM in estimagic. In order to get the estimates by MSM, you must have at least as many moments as parameters to estimate. If you have fewer moments than parameters to be estimated, the model is said to be underidentified.  Besides that, when not all moments are orthogonal it may also lead to identification failure.\n",
    "\n",
    "In the tutorial here, we will use a simple linear regression model where two of the regressors are correlated. Thus, the identification problem is encountered.\n",
    "\n",
    "Throughout the tutorial, we perform the testing procedure described in Forneron, J. J. (2019). \n",
    "\n",
    "## Outline of the testing procedure\n",
    "1. Calculate quasi-Jacobian matrix\n",
    "2. Identification category  selection\n",
    "3. Subvector inference\n",
    "\n",
    "\n",
    "## Example: Estimate the parameters of a regression model\n",
    "\n",
    "The model we consider here is a simple regression model with two explanatory variables (plus a constant). The goal is to estimate the slope coefficients and the error variance from a simulated data set.\n",
    "\n",
    "\n",
    "### Model:\n",
    "\n",
    "$$ y = \\beta_0 + \\beta_1 x_1 + \\beta_2 x_2 + \\epsilon, \\text{ where } \\epsilon \\sim N(0, \\sigma^2)$$\n",
    "\n",
    "We aim to estimate $\\beta_0, \\beta_1, \\beta_2,\\sigma^2$."
   ]
  },
  {
   "cell_type": "code",
   "execution_count": 2,
   "id": "dirty-slovakia",
   "metadata": {},
   "outputs": [
    {
     "name": "stderr",
     "output_type": "stream",
     "text": [
      "c:\\Users\\aida4\\AppData\\Local\\Programs\\Python\\Python39\\lib\\site-packages\\fuzzywuzzy\\fuzz.py:11: UserWarning: Using slow pure-python SequenceMatcher. Install python-Levenshtein to remove this warning\n",
      "  warnings.warn('Using slow pure-python SequenceMatcher. Install python-Levenshtein to remove this warning')\n"
     ]
    }
   ],
   "source": [
    "import numpy as np\n",
    "import pandas as pd\n",
    "\n",
    "import estimagic as em\n",
    "\n",
    "rng = np.random.default_rng(seed=0)"
   ]
  },
  {
   "cell_type": "markdown",
   "id": "annoying-guard",
   "metadata": {},
   "source": [
    "## 1. Simulate data"
   ]
  },
  {
   "cell_type": "code",
   "execution_count": 24,
   "id": "fdaf1542",
   "metadata": {},
   "outputs": [],
   "source": [
    "def simulate_data(params, n_draws, rng,correlation=0.7):\n",
    "\n",
    "    mu = np.array([0.0, 0.0])\n",
    "    var_cov = np.array([\n",
    "            [  1, correlation],\n",
    "            [ correlation,  1],\n",
    "        ])\n",
    "    x = rng.multivariate_normal(mu, var_cov, size=n_draws)\n",
    "    x1 = x[:,0]\n",
    "    x2 = x[:,1]\n",
    "    e = rng.normal(0, params.loc[\"sd\", \"value\"], size=n_draws)\n",
    "    y = params.loc[\"intercept\", \"value\"] + params.loc[\"slope1\", \"value\"] * x1 + params.loc[\"slope2\", \"value\"] + e\n",
    "    return pd.DataFrame({\"y\": y, \"x1\": x1, \"x2\": x2})"
   ]
  },
  {
   "cell_type": "code",
   "execution_count": 25,
   "id": "f965ccdc",
   "metadata": {},
   "outputs": [],
   "source": [
    "true_params = pd.DataFrame(\n",
    "    data=[[2, -np.inf], [-1, -np.inf], [-1, -np.inf], [1, 1e-10]],\n",
    "    columns=[\"value\", \"lower_bound\"],\n",
    "    index=[\"intercept\", \"slope1\", \"slope2\", \"sd\"],\n",
    ")\n",
    "\n",
    "data = simulate_data(true_params, n_draws=100, rng=rng)"
   ]
  },
  {
   "cell_type": "markdown",
   "id": "20a94f52",
   "metadata": {},
   "source": [
    "## 2. Calculate Moments"
   ]
  },
  {
   "cell_type": "code",
   "execution_count": 27,
   "id": "diverse-validation",
   "metadata": {},
   "outputs": [],
   "source": [
    "def calculate_moments(sample):\n",
    "    moments = {\n",
    "        \"y_mean\": sample[\"y\"].mean(),\n",
    "        \"x1_mean\": sample[\"x1\"].mean(),\n",
    "        \"x2_mean\": sample[\"x2\"].mean(),\n",
    "        \"yx1_mean\": (sample[\"y\"] * sample[\"x1\"]).mean(),\n",
    "        \"yx2_mean\": (sample[\"y\"] * sample[\"x2\"]).mean(),\n",
    "        \"y_sqrd_mean\": (sample[\"y\"] ** 2).mean(),\n",
    "        \"x1_sqrd_mean\": (sample[\"x1\"] ** 2).mean(),\n",
    "        \"x2_sqrd_mean\": (sample[\"x1\"] ** 2).mean(),\n",
    "    }\n",
    "    return pd.Series(moments)"
   ]
  },
  {
   "cell_type": "code",
   "execution_count": 28,
   "id": "short-flood",
   "metadata": {},
   "outputs": [
    {
     "data": {
      "text/plain": [
       "y_mean          0.637690\n",
       "x1_mean         0.194696\n",
       "x2_mean         0.103593\n",
       "yx1_mean       -0.606911\n",
       "yx2_mean       -0.401584\n",
       "y_sqrd_mean     2.158836\n",
       "x1_sqrd_mean    0.839349\n",
       "x2_sqrd_mean    0.839349\n",
       "dtype: float64"
      ]
     },
     "execution_count": 28,
     "metadata": {},
     "output_type": "execute_result"
    }
   ],
   "source": [
    "empirical_moments = calculate_moments(data)\n",
    "empirical_moments"
   ]
  },
  {
   "cell_type": "markdown",
   "id": "hearing-dairy",
   "metadata": {},
   "source": [
    "``get_moments_cov`` mainly just calls estimagic's bootstrap function. See our [bootstrap_tutorial](../../how_to_guides/inference/how_to_do_bootstrap_inference.ipynb) for background information. \n",
    "\n"
   ]
  },
  {
   "cell_type": "markdown",
   "id": "worldwide-whole",
   "metadata": {},
   "source": [
    "## 3. Define a function to calculate simulated moments\n",
    "\n",
    "In a real world application, this is the step that would take most of the time. However, in our very simple example, all the work is already done by numpy."
   ]
  },
  {
   "cell_type": "code",
   "execution_count": 30,
   "id": "creative-pittsburgh",
   "metadata": {},
   "outputs": [],
   "source": [
    "def simulate_moments(params, n_draws=10_000, seed=0):\n",
    "    rng = np.random.default_rng(seed)\n",
    "    sim_data = simulate_data(params, n_draws, rng)\n",
    "    sim_moments = calculate_moments(sim_data)\n",
    "    return sim_moments"
   ]
  },
  {
   "cell_type": "code",
   "execution_count": 31,
   "id": "casual-stream",
   "metadata": {},
   "outputs": [
    {
     "data": {
      "text/plain": [
       "y_mean          1.009276\n",
       "x1_mean        -0.006568\n",
       "x2_mean        -0.003578\n",
       "yx1_mean       -0.977183\n",
       "yx2_mean       -0.683988\n",
       "y_sqrd_mean     2.976694\n",
       "x1_sqrd_mean    0.981403\n",
       "x2_sqrd_mean    0.981403\n",
       "dtype: float64"
      ]
     },
     "execution_count": 31,
     "metadata": {},
     "output_type": "execute_result"
    }
   ],
   "source": [
    "simulate_moments(true_params)"
   ]
  },
  {
   "cell_type": "markdown",
   "id": "blind-tractor",
   "metadata": {},
   "source": [
    "## 4. Identification Check\n",
    "\n",
    "For more background on the sensitivity measures and their interpretation, check out Forneron, J. J. (2019). \n",
    "\n"
   ]
  },
  {
   "cell_type": "code",
   "execution_count": null,
   "id": "37343196",
   "metadata": {},
   "outputs": [],
   "source": [
    "check_ml_identification()"
   ]
  }
 ],
 "metadata": {
  "kernelspec": {
   "display_name": "Python 3.9.5 64-bit",
   "language": "python",
   "name": "python3"
  },
  "language_info": {
   "codemirror_mode": {
    "name": "ipython",
    "version": 3
   },
   "file_extension": ".py",
   "mimetype": "text/x-python",
   "name": "python",
   "nbconvert_exporter": "python",
   "pygments_lexer": "ipython3",
   "version": "3.9.5"
  },
  "vscode": {
   "interpreter": {
    "hash": "16cdb2918d68fc038b94e1d120e3768c77cd4fa604719a926758a56fae290753"
   }
  }
 },
 "nbformat": 4,
 "nbformat_minor": 5
}
