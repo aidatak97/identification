{
 "cells": [
  {
   "cell_type": "markdown",
   "id": "private-handle",
   "metadata": {},
   "source": [
    "# Detecting Identification Failure in the Moment Condition Models.\n",
    "\n",
    "This tutorial shows you how to do an identification check for MSM in estimagic. In order to get the estimates by MSM, you must have at least as many moments as parameters to estimate. If you have fewer moments than parameters to be estimated, the model is said to be underidentified.  Besides that, when not all moments are orthogonal it may also lead to identification failure.\n",
    "\n",
    "In the tutorial here, we will use a simple linear regression model where two of the regressors are correlated. Thus, the identification problem is encountered.\n",
    "\n",
    "Throughout the tutorial, we perform the testing procedure described in Forneron, J. J. (2019). \n",
    "\n",
    "## Outline of the testing procedure\n",
    "1. Calculate quasi-Jacobian matrix\n",
    "2. Identification category  selection\n",
    "3. Subvector inference\n",
    "\n",
    "\n",
    "## Example: Estimate the parameters of a regression model\n",
    "\n",
    "The model we consider here is a simple regression model with two explanatory variables (plus a constant). The goal is to estimate the slope coefficients and the error variance from a simulated data set.\n",
    "\n",
    "\n",
    "### Model:\n",
    "\n",
    "$$ y = \\beta_0 + \\beta_1 x_1 + \\beta_2 x_2 + \\epsilon, \\text{ where } \\epsilon \\sim N(0, \\sigma^2)$$\n",
    "\n",
    "We aim to estimate $\\beta_0, \\beta_1, \\beta_2,\\sigma^2$."
   ]
  },
  {
   "cell_type": "code",
   "execution_count": 1,
   "id": "dirty-slovakia",
   "metadata": {},
   "outputs": [
    {
     "name": "stderr",
     "output_type": "stream",
     "text": [
      "c:\\Users\\aida4\\AppData\\Local\\Programs\\Python\\Python39\\lib\\site-packages\\fuzzywuzzy\\fuzz.py:11: UserWarning: Using slow pure-python SequenceMatcher. Install python-Levenshtein to remove this warning\n",
      "  warnings.warn('Using slow pure-python SequenceMatcher. Install python-Levenshtein to remove this warning')\n"
     ]
    }
   ],
   "source": [
    "import numpy as np\n",
    "import pandas as pd\n",
    "\n",
    "import estimagic as em\n",
    "\n",
    "rng = np.random.default_rng(seed=0)"
   ]
  },
  {
   "cell_type": "markdown",
   "id": "annoying-guard",
   "metadata": {},
   "source": [
    "## 1. Simulate data"
   ]
  },
  {
   "cell_type": "code",
   "execution_count": 2,
   "id": "fdaf1542",
   "metadata": {},
   "outputs": [],
   "source": [
    "def simulate_data(params, n_draws, rng,correlation=0.7):\n",
    "\n",
    "    mu = np.array([0.0, 0.0])\n",
    "    var_cov = np.array([\n",
    "            [  1, correlation],\n",
    "            [ correlation,  1],\n",
    "        ])\n",
    "    x = rng.multivariate_normal(mu, var_cov, size=n_draws)\n",
    "    x1 = x[:,0]\n",
    "    x2 = x[:,1]\n",
    "    e = rng.normal(0, params.loc[\"sd\", \"value\"], size=n_draws)\n",
    "    y = params.loc[\"intercept\", \"value\"] + params.loc[\"slope1\", \"value\"] * x1 + params.loc[\"slope2\", \"value\"] + e\n",
    "    return pd.DataFrame({\"y\": y, \"x1\": x1, \"x2\": x2})"
   ]
  },
  {
   "cell_type": "code",
   "execution_count": 3,
   "id": "f965ccdc",
   "metadata": {},
   "outputs": [],
   "source": [
    "true_params = pd.DataFrame(\n",
    "    data=[[2, -np.inf], [-1, -np.inf], [-1, -np.inf], [1, 1e-10]],\n",
    "    columns=[\"value\", \"lower_bound\"],\n",
    "    index=[\"intercept\", \"slope1\", \"slope2\", \"sd\"],\n",
    ")\n",
    "\n",
    "data = simulate_data(true_params, n_draws=100, rng=rng)"
   ]
  },
  {
   "cell_type": "code",
   "execution_count": 8,
   "id": "9816b414",
   "metadata": {},
   "outputs": [
    {
     "data": {
      "text/html": [
       "<div>\n",
       "<style scoped>\n",
       "    .dataframe tbody tr th:only-of-type {\n",
       "        vertical-align: middle;\n",
       "    }\n",
       "\n",
       "    .dataframe tbody tr th {\n",
       "        vertical-align: top;\n",
       "    }\n",
       "\n",
       "    .dataframe thead th {\n",
       "        text-align: right;\n",
       "    }\n",
       "</style>\n",
       "<table border=\"1\" class=\"dataframe\">\n",
       "  <thead>\n",
       "    <tr style=\"text-align: right;\">\n",
       "      <th></th>\n",
       "      <th>y</th>\n",
       "      <th>x1</th>\n",
       "      <th>x2</th>\n",
       "    </tr>\n",
       "  </thead>\n",
       "  <tbody>\n",
       "    <tr>\n",
       "      <th>0</th>\n",
       "      <td>0.401218</td>\n",
       "      <td>-0.064754</td>\n",
       "      <td>-0.167082</td>\n",
       "    </tr>\n",
       "    <tr>\n",
       "      <th>1</th>\n",
       "      <td>1.017650</td>\n",
       "      <td>-0.631068</td>\n",
       "      <td>-0.549813</td>\n",
       "    </tr>\n",
       "    <tr>\n",
       "      <th>2</th>\n",
       "      <td>-0.958967</td>\n",
       "      <td>0.353818</td>\n",
       "      <td>0.633908</td>\n",
       "    </tr>\n",
       "    <tr>\n",
       "      <th>3</th>\n",
       "      <td>3.298381</td>\n",
       "      <td>-1.569032</td>\n",
       "      <td>-0.835426</td>\n",
       "    </tr>\n",
       "    <tr>\n",
       "      <th>4</th>\n",
       "      <td>0.667232</td>\n",
       "      <td>1.138907</td>\n",
       "      <td>0.158716</td>\n",
       "    </tr>\n",
       "    <tr>\n",
       "      <th>...</th>\n",
       "      <td>...</td>\n",
       "      <td>...</td>\n",
       "      <td>...</td>\n",
       "    </tr>\n",
       "    <tr>\n",
       "      <th>95</th>\n",
       "      <td>-0.736617</td>\n",
       "      <td>2.299014</td>\n",
       "      <td>1.286033</td>\n",
       "    </tr>\n",
       "    <tr>\n",
       "      <th>96</th>\n",
       "      <td>1.690777</td>\n",
       "      <td>-0.982410</td>\n",
       "      <td>-1.021607</td>\n",
       "    </tr>\n",
       "    <tr>\n",
       "      <th>97</th>\n",
       "      <td>1.676692</td>\n",
       "      <td>-0.375400</td>\n",
       "      <td>0.897457</td>\n",
       "    </tr>\n",
       "    <tr>\n",
       "      <th>98</th>\n",
       "      <td>-1.670329</td>\n",
       "      <td>1.409368</td>\n",
       "      <td>0.955720</td>\n",
       "    </tr>\n",
       "    <tr>\n",
       "      <th>99</th>\n",
       "      <td>1.624278</td>\n",
       "      <td>0.208617</td>\n",
       "      <td>0.662792</td>\n",
       "    </tr>\n",
       "  </tbody>\n",
       "</table>\n",
       "<p>100 rows × 3 columns</p>\n",
       "</div>"
      ],
      "text/plain": [
       "           y        x1        x2\n",
       "0   0.401218 -0.064754 -0.167082\n",
       "1   1.017650 -0.631068 -0.549813\n",
       "2  -0.958967  0.353818  0.633908\n",
       "3   3.298381 -1.569032 -0.835426\n",
       "4   0.667232  1.138907  0.158716\n",
       "..       ...       ...       ...\n",
       "95 -0.736617  2.299014  1.286033\n",
       "96  1.690777 -0.982410 -1.021607\n",
       "97  1.676692 -0.375400  0.897457\n",
       "98 -1.670329  1.409368  0.955720\n",
       "99  1.624278  0.208617  0.662792\n",
       "\n",
       "[100 rows x 3 columns]"
      ]
     },
     "execution_count": 8,
     "metadata": {},
     "output_type": "execute_result"
    }
   ],
   "source": [
    "data"
   ]
  },
  {
   "cell_type": "markdown",
   "id": "20a94f52",
   "metadata": {},
   "source": [
    "## 2. Calculate Moments"
   ]
  },
  {
   "cell_type": "code",
   "execution_count": 4,
   "id": "diverse-validation",
   "metadata": {},
   "outputs": [],
   "source": [
    "def calculate_moments(sample):\n",
    "    moments = {\n",
    "        \"y_mean\": sample[\"y\"].mean(),\n",
    "        \"x1_mean\": sample[\"x1\"].mean(),\n",
    "        \"x2_mean\": sample[\"x2\"].mean(),\n",
    "        \"yx1_mean\": (sample[\"y\"] * sample[\"x1\"]).mean(),\n",
    "        \"yx2_mean\": (sample[\"y\"] * sample[\"x2\"]).mean(),\n",
    "        \"y_sqrd_mean\": (sample[\"y\"] ** 2).mean(),\n",
    "        \"x1_sqrd_mean\": (sample[\"x1\"] ** 2).mean(),\n",
    "        \"x2_sqrd_mean\": (sample[\"x1\"] ** 2).mean(),\n",
    "    }\n",
    "    return pd.Series(moments)"
   ]
  },
  {
   "cell_type": "code",
   "execution_count": 5,
   "id": "short-flood",
   "metadata": {},
   "outputs": [
    {
     "data": {
      "text/plain": [
       "y_mean          0.835995\n",
       "x1_mean         0.026028\n",
       "x2_mean         0.104510\n",
       "yx1_mean       -0.983584\n",
       "yx2_mean       -0.449597\n",
       "y_sqrd_mean     2.930317\n",
       "x1_sqrd_mean    1.024421\n",
       "x2_sqrd_mean    1.024421\n",
       "dtype: float64"
      ]
     },
     "execution_count": 5,
     "metadata": {},
     "output_type": "execute_result"
    }
   ],
   "source": [
    "empirical_moments = calculate_moments(data)\n",
    "empirical_moments"
   ]
  },
  {
   "cell_type": "markdown",
   "id": "hearing-dairy",
   "metadata": {},
   "source": [
    "``get_moments_cov`` mainly just calls estimagic's bootstrap function. See our [bootstrap_tutorial](../../how_to_guides/inference/how_to_do_bootstrap_inference.ipynb) for background information. \n",
    "\n"
   ]
  },
  {
   "cell_type": "markdown",
   "id": "worldwide-whole",
   "metadata": {},
   "source": [
    "## 3. Define a function to calculate simulated moments\n",
    "\n",
    "In a real world application, this is the step that would take most of the time. However, in our very simple example, all the work is already done by numpy."
   ]
  },
  {
   "cell_type": "code",
   "execution_count": 6,
   "id": "creative-pittsburgh",
   "metadata": {},
   "outputs": [],
   "source": [
    "def simulate_moments(params, n_draws=10_000, seed=0):\n",
    "    rng = np.random.default_rng(seed)\n",
    "    sim_data = simulate_data(params, n_draws, rng)\n",
    "    sim_moments = calculate_moments(sim_data)\n",
    "    return sim_moments"
   ]
  },
  {
   "cell_type": "code",
   "execution_count": 7,
   "id": "casual-stream",
   "metadata": {},
   "outputs": [
    {
     "data": {
      "text/plain": [
       "y_mean          1.009276\n",
       "x1_mean        -0.006568\n",
       "x2_mean        -0.003578\n",
       "yx1_mean       -0.977183\n",
       "yx2_mean       -0.683988\n",
       "y_sqrd_mean     2.976694\n",
       "x1_sqrd_mean    0.981403\n",
       "x2_sqrd_mean    0.981403\n",
       "dtype: float64"
      ]
     },
     "execution_count": 7,
     "metadata": {},
     "output_type": "execute_result"
    }
   ],
   "source": [
    "simulate_moments(true_params)"
   ]
  },
  {
   "cell_type": "code",
   "execution_count": 10,
   "id": "6d83924c",
   "metadata": {},
   "outputs": [
    {
     "data": {
      "text/html": [
       "<div>\n",
       "<style scoped>\n",
       "    .dataframe tbody tr th:only-of-type {\n",
       "        vertical-align: middle;\n",
       "    }\n",
       "\n",
       "    .dataframe tbody tr th {\n",
       "        vertical-align: top;\n",
       "    }\n",
       "\n",
       "    .dataframe thead th {\n",
       "        text-align: right;\n",
       "    }\n",
       "</style>\n",
       "<table border=\"1\" class=\"dataframe\">\n",
       "  <thead>\n",
       "    <tr style=\"text-align: right;\">\n",
       "      <th></th>\n",
       "      <th>y_mean</th>\n",
       "      <th>x1_mean</th>\n",
       "      <th>x2_mean</th>\n",
       "      <th>yx1_mean</th>\n",
       "      <th>yx2_mean</th>\n",
       "      <th>y_sqrd_mean</th>\n",
       "      <th>x1_sqrd_mean</th>\n",
       "      <th>x2_sqrd_mean</th>\n",
       "    </tr>\n",
       "  </thead>\n",
       "  <tbody>\n",
       "    <tr>\n",
       "      <th>y_mean</th>\n",
       "      <td>0.021509</td>\n",
       "      <td>-0.009426</td>\n",
       "      <td>-0.004625</td>\n",
       "      <td>-0.011972</td>\n",
       "      <td>0.000164</td>\n",
       "      <td>0.056065</td>\n",
       "      <td>-0.000340</td>\n",
       "      <td>-0.000340</td>\n",
       "    </tr>\n",
       "    <tr>\n",
       "      <th>x1_mean</th>\n",
       "      <td>-0.009426</td>\n",
       "      <td>0.009893</td>\n",
       "      <td>0.006379</td>\n",
       "      <td>0.007864</td>\n",
       "      <td>0.002203</td>\n",
       "      <td>-0.019811</td>\n",
       "      <td>0.000483</td>\n",
       "      <td>0.000483</td>\n",
       "    </tr>\n",
       "    <tr>\n",
       "      <th>x2_mean</th>\n",
       "      <td>-0.004625</td>\n",
       "      <td>0.006379</td>\n",
       "      <td>0.008530</td>\n",
       "      <td>0.003300</td>\n",
       "      <td>0.003402</td>\n",
       "      <td>-0.005371</td>\n",
       "      <td>0.000924</td>\n",
       "      <td>0.000924</td>\n",
       "    </tr>\n",
       "    <tr>\n",
       "      <th>yx1_mean</th>\n",
       "      <td>-0.011972</td>\n",
       "      <td>0.007864</td>\n",
       "      <td>0.003300</td>\n",
       "      <td>0.035066</td>\n",
       "      <td>0.017265</td>\n",
       "      <td>-0.071828</td>\n",
       "      <td>-0.015913</td>\n",
       "      <td>-0.015913</td>\n",
       "    </tr>\n",
       "    <tr>\n",
       "      <th>yx2_mean</th>\n",
       "      <td>0.000164</td>\n",
       "      <td>0.002203</td>\n",
       "      <td>0.003402</td>\n",
       "      <td>0.017265</td>\n",
       "      <td>0.018112</td>\n",
       "      <td>-0.021093</td>\n",
       "      <td>-0.010521</td>\n",
       "      <td>-0.010521</td>\n",
       "    </tr>\n",
       "    <tr>\n",
       "      <th>y_sqrd_mean</th>\n",
       "      <td>0.056065</td>\n",
       "      <td>-0.019811</td>\n",
       "      <td>-0.005371</td>\n",
       "      <td>-0.071828</td>\n",
       "      <td>-0.021093</td>\n",
       "      <td>0.259691</td>\n",
       "      <td>0.016572</td>\n",
       "      <td>0.016572</td>\n",
       "    </tr>\n",
       "    <tr>\n",
       "      <th>x1_sqrd_mean</th>\n",
       "      <td>-0.000340</td>\n",
       "      <td>0.000483</td>\n",
       "      <td>0.000924</td>\n",
       "      <td>-0.015913</td>\n",
       "      <td>-0.010521</td>\n",
       "      <td>0.016572</td>\n",
       "      <td>0.018723</td>\n",
       "      <td>0.018723</td>\n",
       "    </tr>\n",
       "    <tr>\n",
       "      <th>x2_sqrd_mean</th>\n",
       "      <td>-0.000340</td>\n",
       "      <td>0.000483</td>\n",
       "      <td>0.000924</td>\n",
       "      <td>-0.015913</td>\n",
       "      <td>-0.010521</td>\n",
       "      <td>0.016572</td>\n",
       "      <td>0.018723</td>\n",
       "      <td>0.018723</td>\n",
       "    </tr>\n",
       "  </tbody>\n",
       "</table>\n",
       "</div>"
      ],
      "text/plain": [
       "                y_mean   x1_mean   x2_mean  yx1_mean  yx2_mean  y_sqrd_mean  \\\n",
       "y_mean        0.021509 -0.009426 -0.004625 -0.011972  0.000164     0.056065   \n",
       "x1_mean      -0.009426  0.009893  0.006379  0.007864  0.002203    -0.019811   \n",
       "x2_mean      -0.004625  0.006379  0.008530  0.003300  0.003402    -0.005371   \n",
       "yx1_mean     -0.011972  0.007864  0.003300  0.035066  0.017265    -0.071828   \n",
       "yx2_mean      0.000164  0.002203  0.003402  0.017265  0.018112    -0.021093   \n",
       "y_sqrd_mean   0.056065 -0.019811 -0.005371 -0.071828 -0.021093     0.259691   \n",
       "x1_sqrd_mean -0.000340  0.000483  0.000924 -0.015913 -0.010521     0.016572   \n",
       "x2_sqrd_mean -0.000340  0.000483  0.000924 -0.015913 -0.010521     0.016572   \n",
       "\n",
       "              x1_sqrd_mean  x2_sqrd_mean  \n",
       "y_mean           -0.000340     -0.000340  \n",
       "x1_mean           0.000483      0.000483  \n",
       "x2_mean           0.000924      0.000924  \n",
       "yx1_mean         -0.015913     -0.015913  \n",
       "yx2_mean         -0.010521     -0.010521  \n",
       "y_sqrd_mean       0.016572      0.016572  \n",
       "x1_sqrd_mean      0.018723      0.018723  \n",
       "x2_sqrd_mean      0.018723      0.018723  "
      ]
     },
     "execution_count": 10,
     "metadata": {},
     "output_type": "execute_result"
    }
   ],
   "source": [
    "moments_cov = em.get_moments_cov(\n",
    "    data, calculate_moments, bootstrap_kwargs={\"n_draws\": 5_000, \"seed\": 0}\n",
    ")\n",
    "\n",
    "moments_cov"
   ]
  },
  {
   "cell_type": "code",
   "execution_count": 13,
   "id": "cb285eff",
   "metadata": {},
   "outputs": [
    {
     "name": "stderr",
     "output_type": "stream",
     "text": [
      "c:\\Users\\aida4\\AppData\\Local\\Programs\\Python\\Python39\\lib\\site-packages\\estimagic\\inference\\shared.py:116: RuntimeWarning: invalid value encountered in sqrt\n",
      "  free[\"standard_error\"] = np.sqrt(np.diag(free_cov))\n",
      "c:\\Users\\aida4\\AppData\\Local\\Programs\\Python\\Python39\\lib\\site-packages\\estimagic\\utilities.py:193: UserWarning: Standard matrix inversion failed due to LinAlgError described below. A pseudo inverse was calculated instead. \n",
      "  warnings.warn(header + msg)\n",
      "c:\\Users\\aida4\\AppData\\Local\\Programs\\Python\\Python39\\lib\\site-packages\\estimagic\\utilities.py:193: UserWarning: Standard matrix inversion failed due to LinAlgError described below. A pseudo inverse was calculated instead. Taking inverse failed during the calculation of sensitvity measures. Interpret them with caution.\n",
      "  warnings.warn(header + msg)\n"
     ]
    }
   ],
   "source": [
    "start_params = true_params.assign(value=[100, 100, 100, 100])\n",
    "\n",
    "res = em.estimate_msm(\n",
    "    simulate_moments,\n",
    "    empirical_moments,\n",
    "    moments_cov,\n",
    "    start_params,\n",
    "    optimize_options={\"algorithm\":\"scipy_lbfgsb\"},\n",
    ")"
   ]
  },
  {
   "cell_type": "code",
   "execution_count": 21,
   "id": "5266b454",
   "metadata": {},
   "outputs": [
    {
     "data": {
      "text/html": [
       "<div>\n",
       "<style scoped>\n",
       "    .dataframe tbody tr th:only-of-type {\n",
       "        vertical-align: middle;\n",
       "    }\n",
       "\n",
       "    .dataframe tbody tr th {\n",
       "        vertical-align: top;\n",
       "    }\n",
       "\n",
       "    .dataframe thead th {\n",
       "        text-align: right;\n",
       "    }\n",
       "</style>\n",
       "<table border=\"1\" class=\"dataframe\">\n",
       "  <thead>\n",
       "    <tr style=\"text-align: right;\">\n",
       "      <th></th>\n",
       "      <th>value</th>\n",
       "      <th>standard_error</th>\n",
       "      <th>p_value</th>\n",
       "      <th>ci_lower</th>\n",
       "      <th>ci_upper</th>\n",
       "      <th>stars</th>\n",
       "    </tr>\n",
       "  </thead>\n",
       "  <tbody>\n",
       "    <tr>\n",
       "      <th>intercept</th>\n",
       "      <td>0.413411</td>\n",
       "      <td>NaN</td>\n",
       "      <td>NaN</td>\n",
       "      <td>NaN</td>\n",
       "      <td>NaN</td>\n",
       "      <td>NaN</td>\n",
       "    </tr>\n",
       "    <tr>\n",
       "      <th>slope1</th>\n",
       "      <td>-0.841402</td>\n",
       "      <td>1.790438e-01</td>\n",
       "      <td>2.556831e-06</td>\n",
       "      <td>-1.192322e+00</td>\n",
       "      <td>-4.904827e-01</td>\n",
       "      <td>***</td>\n",
       "    </tr>\n",
       "    <tr>\n",
       "      <th>slope2</th>\n",
       "      <td>0.413411</td>\n",
       "      <td>8.092283e+06</td>\n",
       "      <td>9.800000e-01</td>\n",
       "      <td>-1.586058e+07</td>\n",
       "      <td>1.586058e+07</td>\n",
       "      <td></td>\n",
       "    </tr>\n",
       "    <tr>\n",
       "      <th>sd</th>\n",
       "      <td>1.251192</td>\n",
       "      <td>8.438251e-02</td>\n",
       "      <td>9.516527e-50</td>\n",
       "      <td>1.085806e+00</td>\n",
       "      <td>1.416579e+00</td>\n",
       "      <td>***</td>\n",
       "    </tr>\n",
       "  </tbody>\n",
       "</table>\n",
       "</div>"
      ],
      "text/plain": [
       "              value  standard_error       p_value      ci_lower      ci_upper  \\\n",
       "intercept  0.413411             NaN           NaN           NaN           NaN   \n",
       "slope1    -0.841402    1.790438e-01  2.556831e-06 -1.192322e+00 -4.904827e-01   \n",
       "slope2     0.413411    8.092283e+06  9.800000e-01 -1.586058e+07  1.586058e+07   \n",
       "sd         1.251192    8.438251e-02  9.516527e-50  1.085806e+00  1.416579e+00   \n",
       "\n",
       "          stars  \n",
       "intercept   NaN  \n",
       "slope1      ***  \n",
       "slope2           \n",
       "sd          ***  "
      ]
     },
     "execution_count": 21,
     "metadata": {},
     "output_type": "execute_result"
    }
   ],
   "source": [
    "res['summary']"
   ]
  },
  {
   "cell_type": "markdown",
   "id": "blind-tractor",
   "metadata": {},
   "source": [
    "## 4. Identification Check\n",
    "\n",
    "For more background on the sensitivity measures and their interpretation, check out Forneron, J. J. (2019). \n",
    "\n"
   ]
  },
  {
   "cell_type": "code",
   "execution_count": null,
   "id": "37343196",
   "metadata": {},
   "outputs": [],
   "source": [
    "check_msm_identification(\n",
    "    simulate_moments = simulate_moments,\n",
    "    simulate_moments_kwargs = {\"data\": data},\n",
    "    params = res['summary']['value']\n",
    "    draws = 10000,\n",
    "    sampling = 'sobol'\n",
    "    )"
   ]
  }
 ],
 "metadata": {
  "kernelspec": {
   "display_name": "Python 3.9.5 64-bit",
   "language": "python",
   "name": "python3"
  },
  "language_info": {
   "codemirror_mode": {
    "name": "ipython",
    "version": 3
   },
   "file_extension": ".py",
   "mimetype": "text/x-python",
   "name": "python",
   "nbconvert_exporter": "python",
   "pygments_lexer": "ipython3",
   "version": "3.9.5"
  },
  "vscode": {
   "interpreter": {
    "hash": "16cdb2918d68fc038b94e1d120e3768c77cd4fa604719a926758a56fae290753"
   }
  }
 },
 "nbformat": 4,
 "nbformat_minor": 5
}
