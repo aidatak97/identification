{
 "cells": [
  {
   "cell_type": "markdown",
   "id": "private-handle",
   "metadata": {},
   "source": [
    "# Detecting Identification Failure in the Moment Condition Models.\n",
    "\n",
    "This tutorial shows you how to do an identification check for MSM in estimagic. In order to get the estimates by MSM, you must have at least as many moments as parameters to estimate. If you have fewer moments than parameters to be estimated, the model is said to be underidentified.  Besides that, when not all moments are orthogonal it may also lead to identification failure.\n",
    "\n",
    "In the tutorial here, we will use a simple linear regression model where two of the regressors are correlated. Thus, the identification problem is encountered.\n",
    "\n",
    "Throughout the tutorial, we perform the testing procedure described in Forneron, J. J. (2019). \n",
    "\n",
    "## Outline of the testing procedure\n",
    "1. Uniform Sampling on Level Sets\n",
    "2. Linear Approximations and the quasi-Jacobean Matrix\n",
    "3. Test procedure\n",
    "\n",
    "\n",
    "## Example: Estimate the parameters of a regression model\n",
    "\n",
    "The model we consider here is a simple regression model with two explanatory variables (plus a constant). The goal is to estimate the slope coefficients and the error variance from a simulated data set.\n",
    "\n",
    "\n",
    "### Model:\n",
    "\n",
    "$$ y = \\beta_0 + \\beta_1 x_1 + \\beta_2 x_2 + \\epsilon, \\text{ where } \\epsilon \\sim N(0, \\sigma^2)$$\n",
    "\n",
    "We aim to estimate $\\beta_0, \\beta_1, \\beta_2,\\sigma^2$."
   ]
  },
  {
   "cell_type": "code",
   "execution_count": 1,
   "id": "dirty-slovakia",
   "metadata": {},
   "outputs": [],
   "source": [
    "import numpy as np\n",
    "import pandas as pd\n",
    "import math\n",
    "\n",
    "import estimagic as em\n",
    "\n",
    "rng = np.random.default_rng(seed=0)"
   ]
  },
  {
   "cell_type": "markdown",
   "id": "annoying-guard",
   "metadata": {},
   "source": [
    "## 1. Simulate data"
   ]
  },
  {
   "cell_type": "code",
   "execution_count": 2,
   "id": "fdaf1542",
   "metadata": {},
   "outputs": [],
   "source": [
    "def simulate_data(params, n_draws, rng,correlation=0.7):\n",
    "\n",
    "    mu = np.array([0.0, 0.0])\n",
    "    var_cov = np.array([\n",
    "            [  1, correlation],\n",
    "            [ correlation,  1],\n",
    "        ])\n",
    "    x = rng.multivariate_normal(mu, var_cov, size=n_draws)\n",
    "    x1 = x[:,0]\n",
    "    x2 = x[:,1]\n",
    "    e = rng.normal(0, params.loc[\"sd\", \"value\"], size=n_draws)\n",
    "    y = params.loc[\"intercept\", \"value\"] + params.loc[\"slope1\", \"value\"] * x1 + params.loc[\"slope2\", \"value\"] + e\n",
    "    return pd.DataFrame({\"y\": y, \"x1\": x1, \"x2\": x2})"
   ]
  },
  {
   "cell_type": "code",
   "execution_count": 3,
   "id": "f965ccdc",
   "metadata": {},
   "outputs": [],
   "source": [
    "true_params = pd.DataFrame(\n",
    "    data=[[2, -np.inf], [-1, -np.inf], [-1, -np.inf], [1, 1e-10]],\n",
    "    columns=[\"value\", \"lower_bound\"],\n",
    "    index=[\"intercept\", \"slope1\", \"slope2\", \"sd\"],\n",
    ")\n",
    "\n",
    "data = simulate_data(true_params, n_draws=1000, rng=rng)"
   ]
  },
  {
   "cell_type": "code",
   "execution_count": 4,
   "id": "9816b414",
   "metadata": {},
   "outputs": [
    {
     "data": {
      "text/html": [
       "<div>\n",
       "<style scoped>\n",
       "    .dataframe tbody tr th:only-of-type {\n",
       "        vertical-align: middle;\n",
       "    }\n",
       "\n",
       "    .dataframe tbody tr th {\n",
       "        vertical-align: top;\n",
       "    }\n",
       "\n",
       "    .dataframe thead th {\n",
       "        text-align: right;\n",
       "    }\n",
       "</style>\n",
       "<table border=\"1\" class=\"dataframe\">\n",
       "  <thead>\n",
       "    <tr style=\"text-align: right;\">\n",
       "      <th></th>\n",
       "      <th>y</th>\n",
       "      <th>x1</th>\n",
       "      <th>x2</th>\n",
       "    </tr>\n",
       "  </thead>\n",
       "  <tbody>\n",
       "    <tr>\n",
       "      <th>0</th>\n",
       "      <td>1.484008</td>\n",
       "      <td>-0.064754</td>\n",
       "      <td>-0.167082</td>\n",
       "    </tr>\n",
       "    <tr>\n",
       "      <th>1</th>\n",
       "      <td>1.128824</td>\n",
       "      <td>-0.631068</td>\n",
       "      <td>-0.549813</td>\n",
       "    </tr>\n",
       "    <tr>\n",
       "      <th>2</th>\n",
       "      <td>-0.211518</td>\n",
       "      <td>0.353818</td>\n",
       "      <td>0.633908</td>\n",
       "    </tr>\n",
       "    <tr>\n",
       "      <th>3</th>\n",
       "      <td>0.968726</td>\n",
       "      <td>-1.569032</td>\n",
       "      <td>-0.835426</td>\n",
       "    </tr>\n",
       "    <tr>\n",
       "      <th>4</th>\n",
       "      <td>-1.819241</td>\n",
       "      <td>1.138907</td>\n",
       "      <td>0.158716</td>\n",
       "    </tr>\n",
       "    <tr>\n",
       "      <th>...</th>\n",
       "      <td>...</td>\n",
       "      <td>...</td>\n",
       "      <td>...</td>\n",
       "    </tr>\n",
       "    <tr>\n",
       "      <th>995</th>\n",
       "      <td>-0.135039</td>\n",
       "      <td>-0.394427</td>\n",
       "      <td>0.654440</td>\n",
       "    </tr>\n",
       "    <tr>\n",
       "      <th>996</th>\n",
       "      <td>3.625212</td>\n",
       "      <td>-1.629129</td>\n",
       "      <td>-1.578598</td>\n",
       "    </tr>\n",
       "    <tr>\n",
       "      <th>997</th>\n",
       "      <td>0.785314</td>\n",
       "      <td>-1.442909</td>\n",
       "      <td>-0.861470</td>\n",
       "    </tr>\n",
       "    <tr>\n",
       "      <th>998</th>\n",
       "      <td>-2.289846</td>\n",
       "      <td>1.294319</td>\n",
       "      <td>-0.269446</td>\n",
       "    </tr>\n",
       "    <tr>\n",
       "      <th>999</th>\n",
       "      <td>-0.308793</td>\n",
       "      <td>0.695449</td>\n",
       "      <td>0.981453</td>\n",
       "    </tr>\n",
       "  </tbody>\n",
       "</table>\n",
       "<p>1000 rows × 3 columns</p>\n",
       "</div>"
      ],
      "text/plain": [
       "            y        x1        x2\n",
       "0    1.484008 -0.064754 -0.167082\n",
       "1    1.128824 -0.631068 -0.549813\n",
       "2   -0.211518  0.353818  0.633908\n",
       "3    0.968726 -1.569032 -0.835426\n",
       "4   -1.819241  1.138907  0.158716\n",
       "..        ...       ...       ...\n",
       "995 -0.135039 -0.394427  0.654440\n",
       "996  3.625212 -1.629129 -1.578598\n",
       "997  0.785314 -1.442909 -0.861470\n",
       "998 -2.289846  1.294319 -0.269446\n",
       "999 -0.308793  0.695449  0.981453\n",
       "\n",
       "[1000 rows x 3 columns]"
      ]
     },
     "execution_count": 4,
     "metadata": {},
     "output_type": "execute_result"
    }
   ],
   "source": [
    "data"
   ]
  },
  {
   "cell_type": "markdown",
   "id": "20a94f52",
   "metadata": {},
   "source": [
    "## 2. Calculate Moments"
   ]
  },
  {
   "cell_type": "code",
   "execution_count": 5,
   "id": "diverse-validation",
   "metadata": {},
   "outputs": [],
   "source": [
    "def calculate_moments(sample):\n",
    "    moments = {\n",
    "        \"y_mean\": sample[\"y\"].mean(),\n",
    "        \"x1_mean\": sample[\"x1\"].mean(),\n",
    "        \"x2_mean\": sample[\"x2\"].mean(),\n",
    "        \"yx1_mean\": (sample[\"y\"] * sample[\"x1\"]).mean(),\n",
    "        \"yx2_mean\": (sample[\"y\"] * sample[\"x2\"]).mean(),\n",
    "        \"y_sqrd_mean\": (sample[\"y\"] ** 2).mean(),\n",
    "        \"x1_sqrd_mean\": (sample[\"x1\"] ** 2).mean(),\n",
    "        \"x2_sqrd_mean\": (sample[\"x1\"] ** 2).mean(),\n",
    "    }\n",
    "    return pd.Series(moments)"
   ]
  },
  {
   "cell_type": "code",
   "execution_count": 6,
   "id": "short-flood",
   "metadata": {},
   "outputs": [
    {
     "data": {
      "text/plain": [
       "y_mean          0.916422\n",
       "x1_mean         0.037716\n",
       "x2_mean         0.017491\n",
       "yx1_mean       -0.938064\n",
       "yx2_mean       -0.695191\n",
       "y_sqrd_mean     2.736050\n",
       "x1_sqrd_mean    1.014383\n",
       "x2_sqrd_mean    1.014383\n",
       "dtype: float64"
      ]
     },
     "execution_count": 6,
     "metadata": {},
     "output_type": "execute_result"
    }
   ],
   "source": [
    "empirical_moments = calculate_moments(data)\n",
    "empirical_moments"
   ]
  },
  {
   "cell_type": "markdown",
   "id": "hearing-dairy",
   "metadata": {},
   "source": [
    "``get_moments_cov`` mainly just calls estimagic's bootstrap function. See our [bootstrap_tutorial](../../how_to_guides/inference/how_to_do_bootstrap_inference.ipynb) for background information. \n",
    "\n"
   ]
  },
  {
   "cell_type": "markdown",
   "id": "worldwide-whole",
   "metadata": {},
   "source": [
    "## 3. Define a function to calculate simulated moments\n",
    "\n",
    "In a real world application, this is the step that would take most of the time. However, in our very simple example, all the work is already done by numpy."
   ]
  },
  {
   "cell_type": "code",
   "execution_count": 7,
   "id": "creative-pittsburgh",
   "metadata": {},
   "outputs": [],
   "source": [
    "def simulate_moments(params, n_draws=10_000, seed=0):\n",
    "    rng = np.random.default_rng(seed)\n",
    "    sim_data = simulate_data(params, n_draws, rng)\n",
    "    sim_moments = calculate_moments(sim_data)\n",
    "\n",
    "    return sim_moments"
   ]
  },
  {
   "cell_type": "code",
   "execution_count": 8,
   "id": "casual-stream",
   "metadata": {},
   "outputs": [
    {
     "data": {
      "text/plain": [
       "y_mean          1.009276\n",
       "x1_mean        -0.006568\n",
       "x2_mean        -0.003578\n",
       "yx1_mean       -0.977183\n",
       "yx2_mean       -0.683988\n",
       "y_sqrd_mean     2.976694\n",
       "x1_sqrd_mean    0.981403\n",
       "x2_sqrd_mean    0.981403\n",
       "dtype: float64"
      ]
     },
     "execution_count": 8,
     "metadata": {},
     "output_type": "execute_result"
    }
   ],
   "source": [
    "simulate_moments(true_params)"
   ]
  },
  {
   "cell_type": "code",
   "execution_count": 9,
   "id": "6d83924c",
   "metadata": {},
   "outputs": [
    {
     "data": {
      "text/html": [
       "<div>\n",
       "<style scoped>\n",
       "    .dataframe tbody tr th:only-of-type {\n",
       "        vertical-align: middle;\n",
       "    }\n",
       "\n",
       "    .dataframe tbody tr th {\n",
       "        vertical-align: top;\n",
       "    }\n",
       "\n",
       "    .dataframe thead th {\n",
       "        text-align: right;\n",
       "    }\n",
       "</style>\n",
       "<table border=\"1\" class=\"dataframe\">\n",
       "  <thead>\n",
       "    <tr style=\"text-align: right;\">\n",
       "      <th></th>\n",
       "      <th>y_mean</th>\n",
       "      <th>x1_mean</th>\n",
       "      <th>x2_mean</th>\n",
       "      <th>yx1_mean</th>\n",
       "      <th>yx2_mean</th>\n",
       "      <th>y_sqrd_mean</th>\n",
       "      <th>x1_sqrd_mean</th>\n",
       "      <th>x2_sqrd_mean</th>\n",
       "    </tr>\n",
       "  </thead>\n",
       "  <tbody>\n",
       "    <tr>\n",
       "      <th>y_mean</th>\n",
       "      <td>0.001900</td>\n",
       "      <td>-0.000915</td>\n",
       "      <td>-0.000664</td>\n",
       "      <td>-0.000545</td>\n",
       "      <td>-0.000228</td>\n",
       "      <td>0.003379</td>\n",
       "      <td>-0.000220</td>\n",
       "      <td>-0.000220</td>\n",
       "    </tr>\n",
       "    <tr>\n",
       "      <th>x1_mean</th>\n",
       "      <td>-0.000915</td>\n",
       "      <td>0.000990</td>\n",
       "      <td>0.000729</td>\n",
       "      <td>0.000813</td>\n",
       "      <td>0.000510</td>\n",
       "      <td>-0.001564</td>\n",
       "      <td>0.000114</td>\n",
       "      <td>0.000114</td>\n",
       "    </tr>\n",
       "    <tr>\n",
       "      <th>x2_mean</th>\n",
       "      <td>-0.000664</td>\n",
       "      <td>0.000729</td>\n",
       "      <td>0.001028</td>\n",
       "      <td>0.000500</td>\n",
       "      <td>0.000724</td>\n",
       "      <td>-0.001004</td>\n",
       "      <td>0.000171</td>\n",
       "      <td>0.000171</td>\n",
       "    </tr>\n",
       "    <tr>\n",
       "      <th>yx1_mean</th>\n",
       "      <td>-0.000545</td>\n",
       "      <td>0.000813</td>\n",
       "      <td>0.000500</td>\n",
       "      <td>0.003613</td>\n",
       "      <td>0.002616</td>\n",
       "      <td>-0.004660</td>\n",
       "      <td>-0.001869</td>\n",
       "      <td>-0.001869</td>\n",
       "    </tr>\n",
       "    <tr>\n",
       "      <th>yx2_mean</th>\n",
       "      <td>-0.000228</td>\n",
       "      <td>0.000510</td>\n",
       "      <td>0.000724</td>\n",
       "      <td>0.002616</td>\n",
       "      <td>0.003223</td>\n",
       "      <td>-0.003065</td>\n",
       "      <td>-0.001376</td>\n",
       "      <td>-0.001376</td>\n",
       "    </tr>\n",
       "    <tr>\n",
       "      <th>y_sqrd_mean</th>\n",
       "      <td>0.003379</td>\n",
       "      <td>-0.001564</td>\n",
       "      <td>-0.001004</td>\n",
       "      <td>-0.004660</td>\n",
       "      <td>-0.003065</td>\n",
       "      <td>0.012983</td>\n",
       "      <td>0.001532</td>\n",
       "      <td>0.001532</td>\n",
       "    </tr>\n",
       "    <tr>\n",
       "      <th>x1_sqrd_mean</th>\n",
       "      <td>-0.000220</td>\n",
       "      <td>0.000114</td>\n",
       "      <td>0.000171</td>\n",
       "      <td>-0.001869</td>\n",
       "      <td>-0.001376</td>\n",
       "      <td>0.001532</td>\n",
       "      <td>0.002004</td>\n",
       "      <td>0.002004</td>\n",
       "    </tr>\n",
       "    <tr>\n",
       "      <th>x2_sqrd_mean</th>\n",
       "      <td>-0.000220</td>\n",
       "      <td>0.000114</td>\n",
       "      <td>0.000171</td>\n",
       "      <td>-0.001869</td>\n",
       "      <td>-0.001376</td>\n",
       "      <td>0.001532</td>\n",
       "      <td>0.002004</td>\n",
       "      <td>0.002004</td>\n",
       "    </tr>\n",
       "  </tbody>\n",
       "</table>\n",
       "</div>"
      ],
      "text/plain": [
       "                y_mean   x1_mean   x2_mean  yx1_mean  yx2_mean  y_sqrd_mean  \\\n",
       "y_mean        0.001900 -0.000915 -0.000664 -0.000545 -0.000228     0.003379   \n",
       "x1_mean      -0.000915  0.000990  0.000729  0.000813  0.000510    -0.001564   \n",
       "x2_mean      -0.000664  0.000729  0.001028  0.000500  0.000724    -0.001004   \n",
       "yx1_mean     -0.000545  0.000813  0.000500  0.003613  0.002616    -0.004660   \n",
       "yx2_mean     -0.000228  0.000510  0.000724  0.002616  0.003223    -0.003065   \n",
       "y_sqrd_mean   0.003379 -0.001564 -0.001004 -0.004660 -0.003065     0.012983   \n",
       "x1_sqrd_mean -0.000220  0.000114  0.000171 -0.001869 -0.001376     0.001532   \n",
       "x2_sqrd_mean -0.000220  0.000114  0.000171 -0.001869 -0.001376     0.001532   \n",
       "\n",
       "              x1_sqrd_mean  x2_sqrd_mean  \n",
       "y_mean           -0.000220     -0.000220  \n",
       "x1_mean           0.000114      0.000114  \n",
       "x2_mean           0.000171      0.000171  \n",
       "yx1_mean         -0.001869     -0.001869  \n",
       "yx2_mean         -0.001376     -0.001376  \n",
       "y_sqrd_mean       0.001532      0.001532  \n",
       "x1_sqrd_mean      0.002004      0.002004  \n",
       "x2_sqrd_mean      0.002004      0.002004  "
      ]
     },
     "execution_count": 9,
     "metadata": {},
     "output_type": "execute_result"
    }
   ],
   "source": [
    "moments_cov = em.get_moments_cov(\n",
    "    data, calculate_moments, bootstrap_kwargs={\"n_draws\": 5_000, \"seed\": 0}\n",
    ")\n",
    "\n",
    "moments_cov"
   ]
  },
  {
   "cell_type": "markdown",
   "id": "276391c8",
   "metadata": {},
   "source": [
    "## 4. Estimation with ``estimate_msm``"
   ]
  },
  {
   "cell_type": "code",
   "execution_count": 10,
   "id": "cb285eff",
   "metadata": {},
   "outputs": [
    {
     "data": {
      "text/html": [
       "<div>\n",
       "<style scoped>\n",
       "    .dataframe tbody tr th:only-of-type {\n",
       "        vertical-align: middle;\n",
       "    }\n",
       "\n",
       "    .dataframe tbody tr th {\n",
       "        vertical-align: top;\n",
       "    }\n",
       "\n",
       "    .dataframe thead th {\n",
       "        text-align: right;\n",
       "    }\n",
       "</style>\n",
       "<table border=\"1\" class=\"dataframe\">\n",
       "  <thead>\n",
       "    <tr style=\"text-align: right;\">\n",
       "      <th></th>\n",
       "      <th>value</th>\n",
       "      <th>standard_error</th>\n",
       "      <th>ci_lower</th>\n",
       "      <th>ci_upper</th>\n",
       "      <th>p_value</th>\n",
       "      <th>free</th>\n",
       "      <th>stars</th>\n",
       "    </tr>\n",
       "  </thead>\n",
       "  <tbody>\n",
       "    <tr>\n",
       "      <th>intercept</th>\n",
       "      <td>0.453675</td>\n",
       "      <td>5.484072e+06</td>\n",
       "      <td>-1.074858e+07</td>\n",
       "      <td>1.074858e+07</td>\n",
       "      <td>9.999999e-01</td>\n",
       "      <td>True</td>\n",
       "      <td></td>\n",
       "    </tr>\n",
       "    <tr>\n",
       "      <th>slope1</th>\n",
       "      <td>-0.980684</td>\n",
       "      <td>6.418333e-02</td>\n",
       "      <td>-1.106481e+00</td>\n",
       "      <td>-8.548871e-01</td>\n",
       "      <td>1.048703e-52</td>\n",
       "      <td>True</td>\n",
       "      <td>***</td>\n",
       "    </tr>\n",
       "    <tr>\n",
       "      <th>slope2</th>\n",
       "      <td>0.453675</td>\n",
       "      <td>1.713761e+06</td>\n",
       "      <td>-3.358908e+06</td>\n",
       "      <td>3.358909e+06</td>\n",
       "      <td>9.999998e-01</td>\n",
       "      <td>True</td>\n",
       "      <td></td>\n",
       "    </tr>\n",
       "    <tr>\n",
       "      <th>sd</th>\n",
       "      <td>0.987262</td>\n",
       "      <td>8.738111e-02</td>\n",
       "      <td>8.159981e-01</td>\n",
       "      <td>1.158526e+00</td>\n",
       "      <td>1.337153e-29</td>\n",
       "      <td>True</td>\n",
       "      <td>***</td>\n",
       "    </tr>\n",
       "  </tbody>\n",
       "</table>\n",
       "</div>"
      ],
      "text/plain": [
       "              value  standard_error      ci_lower      ci_upper       p_value  \\\n",
       "intercept  0.453675    5.484072e+06 -1.074858e+07  1.074858e+07  9.999999e-01   \n",
       "slope1    -0.980684    6.418333e-02 -1.106481e+00 -8.548871e-01  1.048703e-52   \n",
       "slope2     0.453675    1.713761e+06 -3.358908e+06  3.358909e+06  9.999998e-01   \n",
       "sd         0.987262    8.738111e-02  8.159981e-01  1.158526e+00  1.337153e-29   \n",
       "\n",
       "           free stars  \n",
       "intercept  True        \n",
       "slope1     True   ***  \n",
       "slope2     True        \n",
       "sd         True   ***  "
      ]
     },
     "execution_count": 10,
     "metadata": {},
     "output_type": "execute_result"
    }
   ],
   "source": [
    "start_params = true_params.assign(value=[100, 100, 100, 100])\n",
    "\n",
    "res = em.estimate_msm(\n",
    "    simulate_moments,\n",
    "    empirical_moments,\n",
    "    moments_cov,\n",
    "    start_params,\n",
    "    optimize_options={\"algorithm\":\"scipy_lbfgsb\"},\n",
    ")\n",
    "\n",
    "res.summary() # !check that standard_error is without NA"
   ]
  },
  {
   "cell_type": "markdown",
   "id": "blind-tractor",
   "metadata": {},
   "source": [
    "## 4. Identification Check\n",
    "\n",
    "For more background check out Forneron, J. J. (2019). \n",
    "\n"
   ]
  },
  {
   "cell_type": "markdown",
   "id": "b1f9176b",
   "metadata": {},
   "source": [
    "### 4.1 1. Uniform Sampling on Level Sets\n",
    "The computation of the quasi-Jacobean requires uniform draws over the level set. \n",
    "\n",
    "The *direct approach* suggests drawing the parameters values uniformly distributed on a parameter space and assign weights based on bandwidth values. The weighted sample is uniformly distributed on the level set. The draws can be random or pseudo-random using quasi-Monte Carlo sequences such as Sobol or Halton sequence. The main drawback of of this approach is that the effective sample size can be very small, namely, the effective sample size tends to be small when the dimentions of the estimated parameters is moderately large.\n",
    "\n",
    "The *adaptive sample approach* by Population Monte Carlo aims to preserve the simplicity of importance sampling while constructing a sequence of proposal distributions with a higher acceptance rate. It includes several tuning parameters for flexibility.\n",
    "\n",
    "This step can be done with ``sampling_level_sets`` function. The output it produces consists of the selected draws and simulated moments for those draws."
   ]
  },
  {
   "cell_type": "code",
   "execution_count": 11,
   "id": "038fbf0f",
   "metadata": {},
   "outputs": [
    {
     "name": "stderr",
     "output_type": "stream",
     "text": [
      "c:\\Users\\aida4\\Anaconda3\\envs\\assignment_5\\lib\\site-packages\\scipy\\stats\\_qmc.py:1078: UserWarning: The balance properties of Sobol' points require n to be a power of 2.\n",
      "  warnings.warn(\"The balance properties of Sobol' points require\"\n"
     ]
    },
    {
     "data": {
      "text/plain": [
       "(array([[ 2.12960082e+06, -1.01707067e+00, -2.12989041e+06,\n",
       "          9.19440608e-01]]),\n",
       " array([[-2.89584567e+02, -6.56805122e-03, -3.57764133e-03,\n",
       "          9.13828912e-01,  3.42874722e-01,  8.38610603e+04,\n",
       "          9.81403169e-01,  9.81403169e-01]]))"
      ]
     },
     "execution_count": 11,
     "metadata": {},
     "output_type": "execute_result"
    }
   ],
   "source": [
    "from identification_check import sampling_level_sets\n",
    "\n",
    "n = data.shape[0] # the number of observation in the data; required for the default calculation of bandwidth\n",
    "grid_sub,moms_sub = sampling_level_sets(\n",
    "    simulate_moments = simulate_moments,\n",
    "    msm_res = res,\n",
    "    moments_cov = moments_cov,\n",
    "    draws = 10000,\n",
    "    bandwidth = math.sqrt(2 * math.log(math.log(n)) / n),\n",
    "    weights = \"diagonal\",\n",
    "    sampling = \"sobol\")\n",
    "\n",
    "grid_sub,moms_sub"
   ]
  },
  {
   "cell_type": "markdown",
   "id": "2e59bb72",
   "metadata": {},
   "source": [
    "### 4.2 Linear Approximations and the quasi-Jacobean Matrix\n",
    "The central idea behind the identification check is that the quasi-Jacobean provides the best linear approximation of the sample moment function over a region of the parameters where these moments are close to zero. To find the best linear approximation a sup-norm (or $l_{\\infty}$-norm) loss is used to minimize the largest deviation from the linear approximation. The calculation of quasi-Jacobean matrix as the slope of a linear approximation of the moments on an estimate of the identified set as well as the variance can be done with the help of ``calculate_quasi_jacobian`` function."
   ]
  },
  {
   "cell_type": "code",
   "execution_count": 12,
   "id": "1b325ada",
   "metadata": {},
   "outputs": [
    {
     "name": "stderr",
     "output_type": "stream",
     "text": [
      "c:\\Users\\aida4\\Anaconda3\\envs\\assignment_5\\lib\\site-packages\\cvxpy\\problems\\problem.py:1337: UserWarning: Solution may be inaccurate. Try another solver, adjusting the solver settings, or solve with verbose=True for more information.\n",
      "  warnings.warn(\n"
     ]
    },
    {
     "data": {
      "text/plain": [
       "(array([[-6.54341344e-05, -1.49202883e-09, -8.34654712e-10,\n",
       "          2.06791346e-07,  7.75686291e-08,  1.89491082e-02,\n",
       "          2.21739592e-07,  2.21739592e-07],\n",
       "        [ 3.60176638e+00,  1.43663148e-04,  2.91733640e-05,\n",
       "         -1.13726248e-02, -4.19968710e-03, -1.04303562e+03,\n",
       "         -1.22159733e-02, -1.22159733e-02],\n",
       "        [ 6.54272893e-05,  1.49189158e-09,  8.34568110e-10,\n",
       "         -2.06170530e-07, -7.74328371e-08, -1.89471767e-02,\n",
       "         -2.21726787e-07, -2.21726787e-07],\n",
       "        [-3.88500164e+00, -3.52711663e-05,  4.01862992e-06,\n",
       "          1.21392658e-02,  4.65610658e-03,  1.12504454e+03,\n",
       "          1.31097384e-02,  1.31097384e-02]]),\n",
       " array([[-3.64774532e+00, -3.45145149e-05,  3.35512485e-06,\n",
       "          1.15971602e-02,  4.20865668e-03,  1.05636135e+03,\n",
       "          1.24544603e-02,  1.24544603e-02],\n",
       "        [-6.54341344e-05, -1.49202883e-09, -8.34654712e-10,\n",
       "          2.06791346e-07,  7.75686291e-08,  1.89491082e-02,\n",
       "          2.21739592e-07,  2.21739592e-07],\n",
       "        [ 3.60176638e+00,  1.43663148e-04,  2.91733640e-05,\n",
       "         -1.13726248e-02, -4.19968710e-03, -1.04303562e+03,\n",
       "         -1.22159733e-02, -1.22159733e-02],\n",
       "        [ 6.54272893e-05,  1.49189158e-09,  8.34568110e-10,\n",
       "         -2.06170530e-07, -7.74328371e-08, -1.89471767e-02,\n",
       "         -2.21726787e-07, -2.21726787e-07],\n",
       "        [-3.88500164e+00, -3.52711663e-05,  4.01862992e-06,\n",
       "          1.21392658e-02,  4.65610658e-03,  1.12504454e+03,\n",
       "          1.31097384e-02,  1.31097384e-02]]))"
      ]
     },
     "execution_count": 12,
     "metadata": {},
     "output_type": "execute_result"
    }
   ],
   "source": [
    "from identification_check import calculate_quasi_jacobian\n",
    "Bn, phi = calculate_quasi_jacobian(grid_sub, moms_sub, len(res.params[\"value\"])) # the inverse square root variance matrix instead of variance\n",
    "Bn, phi"
   ]
  },
  {
   "cell_type": "markdown",
   "id": "799547bc",
   "metadata": {},
   "source": [
    "### 4.3 Test procedure\n",
    "\n",
    "Identification category selection (ICS) procedure is based on the quasi-Jacobean and its singular values. The procedure evaluates the number of nuisance parameters that are potentially weakly identified. The role of the normalized quasi-Jacobean and the cutoff value is analogous to the ICS procedure in Andrews and Cheng (2012) and the subsequent literature. \n",
    "\n",
    "The procedure is implemented using ``category_selection`` which output is the singular values for normalized quasi-Jacobean, the cutoff and the number of identified parameters."
   ]
  },
  {
   "cell_type": "code",
   "execution_count": 13,
   "id": "81de7f98",
   "metadata": {},
   "outputs": [
    {
     "data": {
      "text/plain": [
       "(array([4.50244813e+07, 5.14947753e-04, 1.83550438e-09, 2.07951693e-14]),\n",
       " 0.11753940002383997,\n",
       " 1)"
      ]
     },
     "execution_count": 13,
     "metadata": {},
     "output_type": "execute_result"
    }
   ],
   "source": [
    "from identification_check import category_selection\n",
    "category_selection(moments_cov,  len(res.params[\"value\"]), Bn, phi, cutoff = math.sqrt(2 * math.log(n) / n))"
   ]
  },
  {
   "cell_type": "markdown",
   "id": "361b9145",
   "metadata": {},
   "source": [
    "# 4.4 ``check_msm_identification``\n",
    "\n",
    "All the previous steps described are included in ``check_msm_identification`` function:"
   ]
  },
  {
   "cell_type": "code",
   "execution_count": 15,
   "id": "b976d612",
   "metadata": {},
   "outputs": [
    {
     "name": "stderr",
     "output_type": "stream",
     "text": [
      "c:\\Users\\aida4\\Anaconda3\\envs\\assignment_5\\lib\\site-packages\\cvxpy\\problems\\problem.py:1337: UserWarning: Solution may be inaccurate. Try another solver, adjusting the solver settings, or solve with verbose=True for more information.\n",
      "  warnings.warn(\n"
     ]
    },
    {
     "data": {
      "text/plain": [
       "(array([[ 1.74063835e-03, -3.95759549e-09, -2.16109639e-09,\n",
       "         -1.19862649e-05, -6.61478796e-06,  5.06181541e+00,\n",
       "          5.87460157e-07,  5.87460157e-07],\n",
       "        [-4.80287322e+01,  1.33603134e-04,  9.41384381e-05,\n",
       "          3.30708073e-01,  1.82504812e-01, -1.39668665e+05,\n",
       "         -1.62309070e-02, -1.62309070e-02],\n",
       "        [-1.74542515e-03,  3.92688912e-09,  2.12517955e-09,\n",
       "          1.20189456e-05,  6.63361957e-06, -5.07573555e+00,\n",
       "         -5.88983745e-07, -5.88983745e-07],\n",
       "        [ 4.37603064e+01, -8.37655368e-05, -3.87053661e-05,\n",
       "         -3.01334028e-01, -1.66308881e-01,  1.27255979e+05,\n",
       "          1.47703984e-02,  1.47703984e-02]]),\n",
       " array([6.95640673e+11, 6.89869192e-05, 2.39633529e-05, 8.19518777e-10]),\n",
       " 0.11753940002383997,\n",
       " 1)"
      ]
     },
     "execution_count": 15,
     "metadata": {},
     "output_type": "execute_result"
    }
   ],
   "source": [
    "from identification_check import check_msm_identification\n",
    "\n",
    "check_msm_identification(\n",
    "        simulate_moments,\n",
    "        res,\n",
    "        moments_cov,\n",
    "        10000,\n",
    "        n_obs = data.shape[0],\n",
    ")"
   ]
  }
 ],
 "metadata": {
  "kernelspec": {
   "display_name": "Python 3.9.7 ('assignment_5')",
   "language": "python",
   "name": "python3"
  },
  "language_info": {
   "codemirror_mode": {
    "name": "ipython",
    "version": 3
   },
   "file_extension": ".py",
   "mimetype": "text/x-python",
   "name": "python",
   "nbconvert_exporter": "python",
   "pygments_lexer": "ipython3",
   "version": "3.9.7"
  },
  "vscode": {
   "interpreter": {
    "hash": "e4a299800501f871bbb90ae62193ee27158c182734852d8fba03b7f21f11a1c8"
   }
  }
 },
 "nbformat": 4,
 "nbformat_minor": 5
}
