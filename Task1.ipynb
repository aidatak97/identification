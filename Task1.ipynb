{
 "cells": [
  {
   "cell_type": "markdown",
   "metadata": {},
   "source": [
    "# Identification Task \n",
    "\n",
    "## What we need\n",
    "\n",
    "We need a function called check_msm_identification that it easy to use and performs the identification check described in [this paper](https://arxiv.org/pdf/1907.13093.pdf). The different variants (e.g. different methods of sampling uniformly from likelihood level sets) can be selected via the optional arguments of check_ml_identification.  The output will either be a dictionary (if it is a small set of outputs that every user will want) or a results object similar to the result of estimate_ml (if there are many different test statistics).\n",
    "\n",
    "## Task 1: Planning\n",
    "\n",
    "- Write down which model specific inputs a user has to supply in order to do an identification check. The names should be aligned with estimate_ml where possible. It will definitely be a likelihood function and a result of estimate_msm but there might be more. \n",
    "- Write down which kinds of outputs a user will get, what they mean and how they should be visualized in a paper (plots, tables, ...). \n",
    "- Write docstrings for check_ml_identification before you actually implement it\n",
    "- Adjust our [simple example](https://estimagic.readthedocs.io/en/stable/getting_started/estimation/first_msm_estimation_with_estimagic.html) such that it has a second variable that can be arbitrarily correlated with x (i.e. add an identification problem)\n",
    "- Start to write a tutorial in a notebook that shows how the new function will be used and what the outputs mean\n",
    "\n",
    "## Remarks\n",
    "\n",
    "- You can for now assume that the model parameters (params) are a 1d numpy array. We talk about making this more flexible later. \n",
    "- The idea behind writing the documentation first is that it lets you focus completely on a user friendly interface and a high level understanding. Also, we will probably ask for changes after you show us your proposed interface. If you had already implemented it, you would have to change it."
   ]
  },
  {
   "cell_type": "code",
   "execution_count": null,
   "metadata": {},
   "outputs": [],
   "source": [
    "# task 1 - interface - inputs and outputs\n",
    "def check_msm_identification():\n",
    "    \"\"\" Do detecting of identification failure in moment condition models. \n",
    "    Performs the identification check as described in Forneron, J. J. (2019).\n",
    "    Introduces the quasi-Jacobian matrix computed as a slope of a linear \n",
    "    approximation of the moments of the estimate of the identified set. It is \n",
    "    asymptotically singular when local or global identification fails and equivalent \n",
    "    to the usual Jacobian matrix which has full rank when model is point and locally \n",
    "    identified.\n",
    "\n",
    "    Args\n",
    "        simulate_moments (callable) – Function that takes as inputs model parameters, \n",
    "            data and potentially other keyword arguments and returns a pytree with \n",
    "            simulated moments.  If the function returns a dict containing the key \n",
    "            \"simulated_moments\" we only use the value corresponding to that key. Other \n",
    "            entries are stored in the log database if you use logging.\n",
    "        simulate_moments_kwargs (dict) – Additional keyword arguments for simulate_moments \n",
    "            with, for example, data on dependent and independent variables from the model \n",
    "            specification.\n",
    "        objective (callable) - the GMM objective function. By default, based on L2 norm.\n",
    "        params (pytree) – A pytree containing the estimated parameters of the model.\n",
    "            Pytrees can be a numpy array, a pandas Series, a DataFrame with “value” column, a \n",
    "            float and any kind of (nested) dictionary or list containing these elements.\n",
    "        weights (str) – One of “diagonal” (default), “identity” or “optimal”.  Note that \n",
    "            “optimal” refers to the asymptotically optimal weighting matrix and is often \n",
    "            not a good choice due to large finite sample bias.\n",
    "        bandwidth (float) - By default is calculated in the form of sqrt(2log(log[n])/n). \n",
    "            Required for the calculation of quasi-jacobian matrix.\n",
    "        kernel (callable) - By default  is the uniform kernel K(U) which is indicator \n",
    "            function for |U|<=1. Required for the calculation of quasi-jacobian matrix.\n",
    "        cutoff (float) - By default is calculated in the form sqrt(2log[n]/n). Required \n",
    "            for identification category selection.\n",
    "        draws (float)  - The number of draws for sampling on level sets. Supposed to be \n",
    "            sufficiently large.\n",
    "        sampling (str) - Methods of sampling uniformly from likelihood level sets. One of \n",
    "            the available options for direct approach using \"sobol\" or \"halton\" sequence \n",
    "            or adaptive sampling by \"population_mc\".\n",
    "        significance (float) - The significance level with default level 5%.\n",
    "        H0 (dict) - Required for subvector inference. For example, b10 = 0.\n",
    "        reparametrization - .\n",
    "        logging (pathlib.Path, str or False) – Path to sqlite3 file (which typically has \n",
    "            the file extension .db. If the file does not exist, it will be created. The \n",
    "            dashboard can only be used when logging is used.\n",
    "        log_options (dict) – Additional keyword arguments to configure the logging.\n",
    "\n",
    "    Returns\n",
    "        dict: The estimated quasi-Jacobian, singular values, identification category, subvestor \n",
    "            inference test output and confidence set.\n",
    "\"\"\"\n",
    "\n",
    "\n",
    "    # 1. quasi-Jacobian Matrix\n",
    "    # 1.1 set the integration grid and evaluate the moments on thr grid, select draws on the level set\n",
    "    # 1.2 compute the intercept and slope\n",
    "    # 1.3 compute the variance\n",
    "\n",
    "\n",
    "    # 2. Identification Category Selection\n",
    "    # 2.1 compute singular values\n",
    "    # 2.2 number of values grater than cutoff\n",
    "\n",
    "\n",
    "\n",
    "    # 3. Subvector Inference\n",
    "    # 3.1 test statistic\n",
    "    # 3.2 hypothesis, confidence set"
   ]
  },
  {
   "cell_type": "markdown",
   "metadata": {},
   "source": [
    "estimate_msm\n",
    "https://estimagic.readthedocs.io/en/stable/reference_guides/index.html"
   ]
  }
 ],
 "metadata": {
  "kernelspec": {
   "display_name": "Python 3.9.5 64-bit",
   "language": "python",
   "name": "python3"
  },
  "language_info": {
   "name": "python",
   "version": "3.9.5"
  },
  "orig_nbformat": 4,
  "vscode": {
   "interpreter": {
    "hash": "16cdb2918d68fc038b94e1d120e3768c77cd4fa604719a926758a56fae290753"
   }
  }
 },
 "nbformat": 4,
 "nbformat_minor": 2
}
